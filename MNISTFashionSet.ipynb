{
  "cells": [
    {
      "cell_type": "markdown",
      "metadata": {
        "id": "view-in-github",
        "colab_type": "text"
      },
      "source": [
        "<a href=\"https://colab.research.google.com/github/tanmay-012/MNIST-Fashion-Set-Classification/blob/main/MNISTFashionSet.ipynb\" target=\"_parent\"><img src=\"https://colab.research.google.com/assets/colab-badge.svg\" alt=\"Open In Colab\"/></a>"
      ]
    },
    {
      "cell_type": "markdown",
      "metadata": {
        "id": "55eZnI7rqoAY"
      },
      "source": [
        "# Importing Required Libraries"
      ]
    },
    {
      "cell_type": "code",
      "execution_count": null,
      "metadata": {
        "id": "Noxqp7WzqoAg"
      },
      "outputs": [],
      "source": [
        "import numpy as np\n",
        "import pandas as pd\n",
        "import matplotlib.pyplot as plt\n",
        "import seaborn as sns"
      ]
    },
    {
      "cell_type": "markdown",
      "metadata": {
        "id": "JRein3MxqoAi"
      },
      "source": [
        "# Reading Data"
      ]
    },
    {
      "cell_type": "code",
      "execution_count": null,
      "metadata": {
        "id": "_qzokxcIqoAj",
        "outputId": "0b783f58-7895-4d7e-e1c9-01dd79325db6"
      },
      "outputs": [
        {
          "data": {
            "text/html": [
              "<div>\n",
              "<style scoped>\n",
              "    .dataframe tbody tr th:only-of-type {\n",
              "        vertical-align: middle;\n",
              "    }\n",
              "\n",
              "    .dataframe tbody tr th {\n",
              "        vertical-align: top;\n",
              "    }\n",
              "\n",
              "    .dataframe thead th {\n",
              "        text-align: right;\n",
              "    }\n",
              "</style>\n",
              "<table border=\"1\" class=\"dataframe\">\n",
              "  <thead>\n",
              "    <tr style=\"text-align: right;\">\n",
              "      <th></th>\n",
              "      <th>label</th>\n",
              "      <th>pixel1</th>\n",
              "      <th>pixel2</th>\n",
              "      <th>pixel3</th>\n",
              "      <th>pixel4</th>\n",
              "      <th>pixel5</th>\n",
              "      <th>pixel6</th>\n",
              "      <th>pixel7</th>\n",
              "      <th>pixel8</th>\n",
              "      <th>pixel9</th>\n",
              "      <th>...</th>\n",
              "      <th>pixel775</th>\n",
              "      <th>pixel776</th>\n",
              "      <th>pixel777</th>\n",
              "      <th>pixel778</th>\n",
              "      <th>pixel779</th>\n",
              "      <th>pixel780</th>\n",
              "      <th>pixel781</th>\n",
              "      <th>pixel782</th>\n",
              "      <th>pixel783</th>\n",
              "      <th>pixel784</th>\n",
              "    </tr>\n",
              "  </thead>\n",
              "  <tbody>\n",
              "    <tr>\n",
              "      <th>0</th>\n",
              "      <td>0</td>\n",
              "      <td>0</td>\n",
              "      <td>0</td>\n",
              "      <td>0</td>\n",
              "      <td>0</td>\n",
              "      <td>0</td>\n",
              "      <td>0</td>\n",
              "      <td>0</td>\n",
              "      <td>9</td>\n",
              "      <td>8</td>\n",
              "      <td>...</td>\n",
              "      <td>103</td>\n",
              "      <td>87</td>\n",
              "      <td>56</td>\n",
              "      <td>0</td>\n",
              "      <td>0</td>\n",
              "      <td>0</td>\n",
              "      <td>0</td>\n",
              "      <td>0</td>\n",
              "      <td>0</td>\n",
              "      <td>0</td>\n",
              "    </tr>\n",
              "    <tr>\n",
              "      <th>1</th>\n",
              "      <td>1</td>\n",
              "      <td>0</td>\n",
              "      <td>0</td>\n",
              "      <td>0</td>\n",
              "      <td>0</td>\n",
              "      <td>0</td>\n",
              "      <td>0</td>\n",
              "      <td>0</td>\n",
              "      <td>0</td>\n",
              "      <td>0</td>\n",
              "      <td>...</td>\n",
              "      <td>34</td>\n",
              "      <td>0</td>\n",
              "      <td>0</td>\n",
              "      <td>0</td>\n",
              "      <td>0</td>\n",
              "      <td>0</td>\n",
              "      <td>0</td>\n",
              "      <td>0</td>\n",
              "      <td>0</td>\n",
              "      <td>0</td>\n",
              "    </tr>\n",
              "    <tr>\n",
              "      <th>2</th>\n",
              "      <td>2</td>\n",
              "      <td>0</td>\n",
              "      <td>0</td>\n",
              "      <td>0</td>\n",
              "      <td>0</td>\n",
              "      <td>0</td>\n",
              "      <td>0</td>\n",
              "      <td>14</td>\n",
              "      <td>53</td>\n",
              "      <td>99</td>\n",
              "      <td>...</td>\n",
              "      <td>0</td>\n",
              "      <td>0</td>\n",
              "      <td>0</td>\n",
              "      <td>0</td>\n",
              "      <td>63</td>\n",
              "      <td>53</td>\n",
              "      <td>31</td>\n",
              "      <td>0</td>\n",
              "      <td>0</td>\n",
              "      <td>0</td>\n",
              "    </tr>\n",
              "    <tr>\n",
              "      <th>3</th>\n",
              "      <td>2</td>\n",
              "      <td>0</td>\n",
              "      <td>0</td>\n",
              "      <td>0</td>\n",
              "      <td>0</td>\n",
              "      <td>0</td>\n",
              "      <td>0</td>\n",
              "      <td>0</td>\n",
              "      <td>0</td>\n",
              "      <td>0</td>\n",
              "      <td>...</td>\n",
              "      <td>137</td>\n",
              "      <td>126</td>\n",
              "      <td>140</td>\n",
              "      <td>0</td>\n",
              "      <td>133</td>\n",
              "      <td>224</td>\n",
              "      <td>222</td>\n",
              "      <td>56</td>\n",
              "      <td>0</td>\n",
              "      <td>0</td>\n",
              "    </tr>\n",
              "    <tr>\n",
              "      <th>4</th>\n",
              "      <td>3</td>\n",
              "      <td>0</td>\n",
              "      <td>0</td>\n",
              "      <td>0</td>\n",
              "      <td>0</td>\n",
              "      <td>0</td>\n",
              "      <td>0</td>\n",
              "      <td>0</td>\n",
              "      <td>0</td>\n",
              "      <td>0</td>\n",
              "      <td>...</td>\n",
              "      <td>0</td>\n",
              "      <td>0</td>\n",
              "      <td>0</td>\n",
              "      <td>0</td>\n",
              "      <td>0</td>\n",
              "      <td>0</td>\n",
              "      <td>0</td>\n",
              "      <td>0</td>\n",
              "      <td>0</td>\n",
              "      <td>0</td>\n",
              "    </tr>\n",
              "  </tbody>\n",
              "</table>\n",
              "<p>5 rows × 785 columns</p>\n",
              "</div>"
            ],
            "text/plain": [
              "   label  pixel1  pixel2  pixel3  pixel4  pixel5  pixel6  pixel7  pixel8  \\\n",
              "0      0       0       0       0       0       0       0       0       9   \n",
              "1      1       0       0       0       0       0       0       0       0   \n",
              "2      2       0       0       0       0       0       0      14      53   \n",
              "3      2       0       0       0       0       0       0       0       0   \n",
              "4      3       0       0       0       0       0       0       0       0   \n",
              "\n",
              "   pixel9  ...  pixel775  pixel776  pixel777  pixel778  pixel779  pixel780  \\\n",
              "0       8  ...       103        87        56         0         0         0   \n",
              "1       0  ...        34         0         0         0         0         0   \n",
              "2      99  ...         0         0         0         0        63        53   \n",
              "3       0  ...       137       126       140         0       133       224   \n",
              "4       0  ...         0         0         0         0         0         0   \n",
              "\n",
              "   pixel781  pixel782  pixel783  pixel784  \n",
              "0         0         0         0         0  \n",
              "1         0         0         0         0  \n",
              "2        31         0         0         0  \n",
              "3       222        56         0         0  \n",
              "4         0         0         0         0  \n",
              "\n",
              "[5 rows x 785 columns]"
            ]
          },
          "execution_count": 2,
          "metadata": {},
          "output_type": "execute_result"
        }
      ],
      "source": [
        "train = pd.read_csv('train.csv')\n",
        "test = pd.read_csv('test.csv')\n",
        "test.head() #Viewing First 5 rows of training data"
      ]
    },
    {
      "cell_type": "code",
      "execution_count": null,
      "metadata": {
        "id": "1hzmQciVqoAl",
        "outputId": "37c168c1-b324-4510-9089-2808ee756024"
      },
      "outputs": [
        {
          "data": {
            "text/html": [
              "<div>\n",
              "<style scoped>\n",
              "    .dataframe tbody tr th:only-of-type {\n",
              "        vertical-align: middle;\n",
              "    }\n",
              "\n",
              "    .dataframe tbody tr th {\n",
              "        vertical-align: top;\n",
              "    }\n",
              "\n",
              "    .dataframe thead th {\n",
              "        text-align: right;\n",
              "    }\n",
              "</style>\n",
              "<table border=\"1\" class=\"dataframe\">\n",
              "  <thead>\n",
              "    <tr style=\"text-align: right;\">\n",
              "      <th></th>\n",
              "      <th>label</th>\n",
              "      <th>pixel1</th>\n",
              "      <th>pixel2</th>\n",
              "      <th>pixel3</th>\n",
              "      <th>pixel4</th>\n",
              "      <th>pixel5</th>\n",
              "      <th>pixel6</th>\n",
              "      <th>pixel7</th>\n",
              "      <th>pixel8</th>\n",
              "      <th>pixel9</th>\n",
              "      <th>...</th>\n",
              "      <th>pixel775</th>\n",
              "      <th>pixel776</th>\n",
              "      <th>pixel777</th>\n",
              "      <th>pixel778</th>\n",
              "      <th>pixel779</th>\n",
              "      <th>pixel780</th>\n",
              "      <th>pixel781</th>\n",
              "      <th>pixel782</th>\n",
              "      <th>pixel783</th>\n",
              "      <th>pixel784</th>\n",
              "    </tr>\n",
              "  </thead>\n",
              "  <tbody>\n",
              "    <tr>\n",
              "      <th>count</th>\n",
              "      <td>60000.000000</td>\n",
              "      <td>60000.000000</td>\n",
              "      <td>60000.000000</td>\n",
              "      <td>60000.000000</td>\n",
              "      <td>60000.000000</td>\n",
              "      <td>60000.000000</td>\n",
              "      <td>60000.000000</td>\n",
              "      <td>60000.000000</td>\n",
              "      <td>60000.000000</td>\n",
              "      <td>60000.000000</td>\n",
              "      <td>...</td>\n",
              "      <td>60000.000000</td>\n",
              "      <td>60000.000000</td>\n",
              "      <td>60000.000000</td>\n",
              "      <td>60000.000000</td>\n",
              "      <td>60000.000000</td>\n",
              "      <td>60000.000000</td>\n",
              "      <td>60000.000000</td>\n",
              "      <td>60000.000000</td>\n",
              "      <td>60000.000000</td>\n",
              "      <td>60000.00000</td>\n",
              "    </tr>\n",
              "    <tr>\n",
              "      <th>mean</th>\n",
              "      <td>4.500000</td>\n",
              "      <td>0.000900</td>\n",
              "      <td>0.006150</td>\n",
              "      <td>0.035333</td>\n",
              "      <td>0.101933</td>\n",
              "      <td>0.247967</td>\n",
              "      <td>0.411467</td>\n",
              "      <td>0.805767</td>\n",
              "      <td>2.198283</td>\n",
              "      <td>5.682000</td>\n",
              "      <td>...</td>\n",
              "      <td>34.625400</td>\n",
              "      <td>23.300683</td>\n",
              "      <td>16.588267</td>\n",
              "      <td>17.869433</td>\n",
              "      <td>22.814817</td>\n",
              "      <td>17.911483</td>\n",
              "      <td>8.520633</td>\n",
              "      <td>2.753300</td>\n",
              "      <td>0.855517</td>\n",
              "      <td>0.07025</td>\n",
              "    </tr>\n",
              "    <tr>\n",
              "      <th>std</th>\n",
              "      <td>2.872305</td>\n",
              "      <td>0.094689</td>\n",
              "      <td>0.271011</td>\n",
              "      <td>1.222324</td>\n",
              "      <td>2.452871</td>\n",
              "      <td>4.306912</td>\n",
              "      <td>5.836188</td>\n",
              "      <td>8.215169</td>\n",
              "      <td>14.093378</td>\n",
              "      <td>23.819481</td>\n",
              "      <td>...</td>\n",
              "      <td>57.545242</td>\n",
              "      <td>48.854427</td>\n",
              "      <td>41.979611</td>\n",
              "      <td>43.966032</td>\n",
              "      <td>51.830477</td>\n",
              "      <td>45.149388</td>\n",
              "      <td>29.614859</td>\n",
              "      <td>17.397652</td>\n",
              "      <td>9.356960</td>\n",
              "      <td>2.12587</td>\n",
              "    </tr>\n",
              "    <tr>\n",
              "      <th>min</th>\n",
              "      <td>0.000000</td>\n",
              "      <td>0.000000</td>\n",
              "      <td>0.000000</td>\n",
              "      <td>0.000000</td>\n",
              "      <td>0.000000</td>\n",
              "      <td>0.000000</td>\n",
              "      <td>0.000000</td>\n",
              "      <td>0.000000</td>\n",
              "      <td>0.000000</td>\n",
              "      <td>0.000000</td>\n",
              "      <td>...</td>\n",
              "      <td>0.000000</td>\n",
              "      <td>0.000000</td>\n",
              "      <td>0.000000</td>\n",
              "      <td>0.000000</td>\n",
              "      <td>0.000000</td>\n",
              "      <td>0.000000</td>\n",
              "      <td>0.000000</td>\n",
              "      <td>0.000000</td>\n",
              "      <td>0.000000</td>\n",
              "      <td>0.00000</td>\n",
              "    </tr>\n",
              "    <tr>\n",
              "      <th>25%</th>\n",
              "      <td>2.000000</td>\n",
              "      <td>0.000000</td>\n",
              "      <td>0.000000</td>\n",
              "      <td>0.000000</td>\n",
              "      <td>0.000000</td>\n",
              "      <td>0.000000</td>\n",
              "      <td>0.000000</td>\n",
              "      <td>0.000000</td>\n",
              "      <td>0.000000</td>\n",
              "      <td>0.000000</td>\n",
              "      <td>...</td>\n",
              "      <td>0.000000</td>\n",
              "      <td>0.000000</td>\n",
              "      <td>0.000000</td>\n",
              "      <td>0.000000</td>\n",
              "      <td>0.000000</td>\n",
              "      <td>0.000000</td>\n",
              "      <td>0.000000</td>\n",
              "      <td>0.000000</td>\n",
              "      <td>0.000000</td>\n",
              "      <td>0.00000</td>\n",
              "    </tr>\n",
              "    <tr>\n",
              "      <th>50%</th>\n",
              "      <td>4.500000</td>\n",
              "      <td>0.000000</td>\n",
              "      <td>0.000000</td>\n",
              "      <td>0.000000</td>\n",
              "      <td>0.000000</td>\n",
              "      <td>0.000000</td>\n",
              "      <td>0.000000</td>\n",
              "      <td>0.000000</td>\n",
              "      <td>0.000000</td>\n",
              "      <td>0.000000</td>\n",
              "      <td>...</td>\n",
              "      <td>0.000000</td>\n",
              "      <td>0.000000</td>\n",
              "      <td>0.000000</td>\n",
              "      <td>0.000000</td>\n",
              "      <td>0.000000</td>\n",
              "      <td>0.000000</td>\n",
              "      <td>0.000000</td>\n",
              "      <td>0.000000</td>\n",
              "      <td>0.000000</td>\n",
              "      <td>0.00000</td>\n",
              "    </tr>\n",
              "    <tr>\n",
              "      <th>75%</th>\n",
              "      <td>7.000000</td>\n",
              "      <td>0.000000</td>\n",
              "      <td>0.000000</td>\n",
              "      <td>0.000000</td>\n",
              "      <td>0.000000</td>\n",
              "      <td>0.000000</td>\n",
              "      <td>0.000000</td>\n",
              "      <td>0.000000</td>\n",
              "      <td>0.000000</td>\n",
              "      <td>0.000000</td>\n",
              "      <td>...</td>\n",
              "      <td>58.000000</td>\n",
              "      <td>9.000000</td>\n",
              "      <td>0.000000</td>\n",
              "      <td>0.000000</td>\n",
              "      <td>0.000000</td>\n",
              "      <td>0.000000</td>\n",
              "      <td>0.000000</td>\n",
              "      <td>0.000000</td>\n",
              "      <td>0.000000</td>\n",
              "      <td>0.00000</td>\n",
              "    </tr>\n",
              "    <tr>\n",
              "      <th>max</th>\n",
              "      <td>9.000000</td>\n",
              "      <td>16.000000</td>\n",
              "      <td>36.000000</td>\n",
              "      <td>226.000000</td>\n",
              "      <td>164.000000</td>\n",
              "      <td>227.000000</td>\n",
              "      <td>230.000000</td>\n",
              "      <td>224.000000</td>\n",
              "      <td>255.000000</td>\n",
              "      <td>254.000000</td>\n",
              "      <td>...</td>\n",
              "      <td>255.000000</td>\n",
              "      <td>255.000000</td>\n",
              "      <td>255.000000</td>\n",
              "      <td>255.000000</td>\n",
              "      <td>255.000000</td>\n",
              "      <td>255.000000</td>\n",
              "      <td>255.000000</td>\n",
              "      <td>255.000000</td>\n",
              "      <td>255.000000</td>\n",
              "      <td>170.00000</td>\n",
              "    </tr>\n",
              "  </tbody>\n",
              "</table>\n",
              "<p>8 rows × 785 columns</p>\n",
              "</div>"
            ],
            "text/plain": [
              "              label        pixel1        pixel2        pixel3        pixel4  \\\n",
              "count  60000.000000  60000.000000  60000.000000  60000.000000  60000.000000   \n",
              "mean       4.500000      0.000900      0.006150      0.035333      0.101933   \n",
              "std        2.872305      0.094689      0.271011      1.222324      2.452871   \n",
              "min        0.000000      0.000000      0.000000      0.000000      0.000000   \n",
              "25%        2.000000      0.000000      0.000000      0.000000      0.000000   \n",
              "50%        4.500000      0.000000      0.000000      0.000000      0.000000   \n",
              "75%        7.000000      0.000000      0.000000      0.000000      0.000000   \n",
              "max        9.000000     16.000000     36.000000    226.000000    164.000000   \n",
              "\n",
              "             pixel5        pixel6        pixel7        pixel8        pixel9  \\\n",
              "count  60000.000000  60000.000000  60000.000000  60000.000000  60000.000000   \n",
              "mean       0.247967      0.411467      0.805767      2.198283      5.682000   \n",
              "std        4.306912      5.836188      8.215169     14.093378     23.819481   \n",
              "min        0.000000      0.000000      0.000000      0.000000      0.000000   \n",
              "25%        0.000000      0.000000      0.000000      0.000000      0.000000   \n",
              "50%        0.000000      0.000000      0.000000      0.000000      0.000000   \n",
              "75%        0.000000      0.000000      0.000000      0.000000      0.000000   \n",
              "max      227.000000    230.000000    224.000000    255.000000    254.000000   \n",
              "\n",
              "       ...      pixel775      pixel776      pixel777      pixel778  \\\n",
              "count  ...  60000.000000  60000.000000  60000.000000  60000.000000   \n",
              "mean   ...     34.625400     23.300683     16.588267     17.869433   \n",
              "std    ...     57.545242     48.854427     41.979611     43.966032   \n",
              "min    ...      0.000000      0.000000      0.000000      0.000000   \n",
              "25%    ...      0.000000      0.000000      0.000000      0.000000   \n",
              "50%    ...      0.000000      0.000000      0.000000      0.000000   \n",
              "75%    ...     58.000000      9.000000      0.000000      0.000000   \n",
              "max    ...    255.000000    255.000000    255.000000    255.000000   \n",
              "\n",
              "           pixel779      pixel780      pixel781      pixel782      pixel783  \\\n",
              "count  60000.000000  60000.000000  60000.000000  60000.000000  60000.000000   \n",
              "mean      22.814817     17.911483      8.520633      2.753300      0.855517   \n",
              "std       51.830477     45.149388     29.614859     17.397652      9.356960   \n",
              "min        0.000000      0.000000      0.000000      0.000000      0.000000   \n",
              "25%        0.000000      0.000000      0.000000      0.000000      0.000000   \n",
              "50%        0.000000      0.000000      0.000000      0.000000      0.000000   \n",
              "75%        0.000000      0.000000      0.000000      0.000000      0.000000   \n",
              "max      255.000000    255.000000    255.000000    255.000000    255.000000   \n",
              "\n",
              "          pixel784  \n",
              "count  60000.00000  \n",
              "mean       0.07025  \n",
              "std        2.12587  \n",
              "min        0.00000  \n",
              "25%        0.00000  \n",
              "50%        0.00000  \n",
              "75%        0.00000  \n",
              "max      170.00000  \n",
              "\n",
              "[8 rows x 785 columns]"
            ]
          },
          "execution_count": 3,
          "metadata": {},
          "output_type": "execute_result"
        }
      ],
      "source": [
        "train.describe() "
      ]
    },
    {
      "cell_type": "code",
      "execution_count": null,
      "metadata": {
        "id": "t4RRlDLMqoAm",
        "outputId": "dea5eec8-46a3-4136-9d47-33b75c30228f"
      },
      "outputs": [
        {
          "data": {
            "text/plain": [
              "0"
            ]
          },
          "execution_count": 4,
          "metadata": {},
          "output_type": "execute_result"
        }
      ],
      "source": [
        "train.isnull().sum().sum() #Checking if it contains any null value"
      ]
    },
    {
      "cell_type": "markdown",
      "metadata": {
        "id": "CprH_i36qoAn"
      },
      "source": [
        "# Preprocessing Data"
      ]
    },
    {
      "cell_type": "code",
      "execution_count": null,
      "metadata": {
        "id": "vd60MYMMqoAo",
        "outputId": "22cdc132-8202-4cb8-c2c4-29cfd031c1a7"
      },
      "outputs": [
        {
          "name": "stdout",
          "output_type": "stream",
          "text": [
            "[[0 0 0 1 0]\n",
            " [0 0 0 0 0]\n",
            " [1 0 0 0 0]\n",
            " [0 0 0 0 1]\n",
            " [0 0 0 0 0]\n",
            " [0 0 0 0 0]\n",
            " [0 0 1 0 0]\n",
            " [0 0 0 0 0]\n",
            " [0 0 0 0 0]\n",
            " [0 1 0 0 0]]\n"
          ]
        }
      ],
      "source": [
        "#Training Data to numpy Array\n",
        "\n",
        "y_train = pd.get_dummies(train['label']) #separating labels into 10 different columns (one hot enocoding)\n",
        "x_train = train.drop(['label'], axis = 1) \n",
        "\n",
        "y_train = y_train.to_numpy().T\n",
        "x_train = x_train.to_numpy().T\n",
        "x_train = x_train /255 # Making all values between 0-1\n",
        "\n",
        "print(y_train[: , 0:5])"
      ]
    },
    {
      "cell_type": "code",
      "execution_count": null,
      "metadata": {
        "id": "y356TxcNqoAp",
        "outputId": "b981b5a6-f93a-4964-b521-691e6ff03ba7"
      },
      "outputs": [
        {
          "data": {
            "text/plain": [
              "<matplotlib.image.AxesImage at 0x19dbf59fe50>"
            ]
          },
          "execution_count": 6,
          "metadata": {},
          "output_type": "execute_result"
        },
        {
          "data": {
            "image/png": "[encoded data removed]",
            "text/plain": [
              "<Figure size 432x288 with 1 Axes>"
            ]
          },
          "metadata": {
            "needs_background": "light"
          },
          "output_type": "display_data"
        }
      ],
      "source": [
        "#Image Visualisation\n",
        "\n",
        "image = x_train[: , 1].reshape((28, 28))\n",
        "plt.imshow(image)"
      ]
    },
    {
      "cell_type": "code",
      "execution_count": null,
      "metadata": {
        "id": "exRiLoYqqoAq"
      },
      "outputs": [],
      "source": [
        "#Testing Data to numpy Array\n",
        "\n",
        "y_test = test['label']\n",
        "x_test = test.drop(['label'], axis = 1)\n",
        "\n",
        "y_test = y_test.to_numpy().T\n",
        "x_test = x_test.to_numpy().T\n",
        "x_test = x_test /255"
      ]
    },
    {
      "cell_type": "markdown",
      "metadata": {
        "id": "8HwDfyITqoAr"
      },
      "source": [
        "## TRAINING MODEL"
      ]
    },
    {
      "cell_type": "code",
      "execution_count": null,
      "metadata": {
        "id": "w8kYsewyqoAr"
      },
      "outputs": [],
      "source": [
        "# def parameters(pixels, labels):\n",
        "#     W1 = np.random.normal(0, 1, size = (64, pixels))\n",
        "#     b1 = np.random.normal(0, 1, size = (64, 1))\n",
        "#     W2 = np.random.normal(0, 1, size = (labels, 64))\n",
        "#     b2 = np.random.normal(0, 1, size = (labels, 1))\n",
        "#     return W1, b1, W2, b2\n",
        "\n",
        "# Initializing Parameters with random values and making features of hidden layer 64\n",
        "\n",
        "def parameters(pixels, labels):\n",
        "    W1 = np.random.rand(64, pixels) - 0.5\n",
        "    b1 = np.random.rand(64, 1) - 0.5\n",
        "    W2 = np.random.rand(labels, 64) - 0.5\n",
        "    b2 = np.random.rand(labels, 1) - 0.5\n",
        "    return W1, b1, W2, b2\n"
      ]
    },
    {
      "cell_type": "markdown",
      "metadata": {
        "id": "_5RHi-FcqoAs"
      },
      "source": [
        "# Forward Propagation"
      ]
    },
    {
      "cell_type": "code",
      "execution_count": null,
      "metadata": {
        "id": "Qyrza77JqoAt"
      },
      "outputs": [],
      "source": [
        "def relu(Z):\n",
        "    return np.maximum(Z, 0) # Z for greater than 0, else 0\n",
        "\n",
        "def softmax(Z):\n",
        "    return np.exp(Z) / sum(np.exp(Z)) # returns the probability of all labels\n",
        "        \n",
        "def forward(X, W1, b1, W2, b2):\n",
        "    Z1 = W1.dot(X) + b1\n",
        "    A1 = relu(Z1)  # ReLU for hidden layer\n",
        "    Z2 = W2.dot(A1) + b2\n",
        "    A2 = softmax(Z2) #Softmax for output layer\n",
        "    return Z1, A1, Z2, A2"
      ]
    },
    {
      "cell_type": "markdown",
      "metadata": {
        "id": "4Emm2qXaqoAu"
      },
      "source": [
        "# Backward Propagation"
      ]
    },
    {
      "cell_type": "code",
      "execution_count": null,
      "metadata": {
        "id": "msNZBwdlqoAu"
      },
      "outputs": [],
      "source": [
        "def relu_backward(Z):\n",
        "    return Z > 0\n",
        "\n",
        "def backward(X, Y, Z1, A1, Z2, A2, W1, W2, b1, b2, alpha):\n",
        "    m = X.shape[1]\n",
        "    \n",
        "    # Gradient of parameters\n",
        "    dZ2 = A2 - Y\n",
        "    dW2 = 1 / m * dZ2.dot(A1.T)\n",
        "    db2 = 1 / m * np.sum(dZ2)\n",
        "    dZ1 = W2.T.dot(dZ2) * relu_backward(Z1)\n",
        "    dW1 = 1 / m * dZ1.dot(X.T)\n",
        "    db1 = 1 / m * np.sum(dZ1)\n",
        "    \n",
        "    #updating the parameters\n",
        "    W1 = W1 - alpha * dW1\n",
        "    b1 = b1 - alpha * db1    \n",
        "    W2 = W2 - alpha * dW2  \n",
        "    b2 = b2 - alpha * db2   \n",
        "    \n",
        "    return W1, b1, W2, b2"
      ]
    },
    {
      "cell_type": "code",
      "execution_count": null,
      "metadata": {
        "id": "p9ewFeN7qoAv"
      },
      "outputs": [],
      "source": [
        "def flatten(A2):\n",
        "    return np.argmax(A2, 0) # Taking index of maximum value across rows\n",
        "\n",
        "def accuracy(predictions, targets):\n",
        "    return np.mean(predictions == targets) # Number of values of the prediction same as given labels"
      ]
    },
    {
      "cell_type": "code",
      "execution_count": null,
      "metadata": {
        "id": "y72JFvgeqoAv"
      },
      "outputs": [],
      "source": [
        "def loss(target, predictions):\n",
        "    return -np.mean(np.log(predictions[np.arange(len(target)), target])) #Cross-Entropy Loss   "
      ]
    },
    {
      "cell_type": "markdown",
      "metadata": {
        "id": "jMVcga9bqoAw"
      },
      "source": [
        "# Model"
      ]
    },
    {
      "cell_type": "code",
      "execution_count": null,
      "metadata": {
        "id": "w8VSkTOrqoAw"
      },
      "outputs": [],
      "source": [
        "def model(X, Y, alpha, iterations):\n",
        "    pixels, samples = X.shape\n",
        "    labels, _ = Y.shape\n",
        "    losses = [] # Array to store loss of each iteration \n",
        "    W1, b1, W2, b2 = parameters(pixels, labels)\n",
        "    \n",
        "    for i in range(iterations):\n",
        "        Z1, A1, Z2, A2 = forward(X, W1, b1, W2, b2)\n",
        "        W1, b1, W2, b2 = backward(X, Y,  Z1, A1, Z2, A2, W1, W2, b1, b2, alpha)\n",
        "        predictions = flatten(A2)\n",
        "        target = flatten(Y)\n",
        "        los = loss(target.T, A2.T)\n",
        "        losses.append(los)\n",
        "        if i % 50 == 0:\n",
        "            print(f\"[================== Iteration: {i} =====================]\")\n",
        "            print(f\"Training loss : {los : .3f}\")\n",
        "            print(f\"Training Accuracy: {accuracy(predictions, target) : .3f}\")\n",
        "    return W1, b1, W2, b2, losses "
      ]
    },
    {
      "cell_type": "markdown",
      "metadata": {
        "id": "q5VfsGCXqoAx"
      },
      "source": [
        "# Accuracy and Loss of Train-Set"
      ]
    },
    {
      "cell_type": "code",
      "execution_count": null,
      "metadata": {
        "id": "7zTzF-RTqoAx",
        "outputId": "60398487-6b7a-4dca-8397-f520f4da689e"
      },
      "outputs": [
        {
          "name": "stdout",
          "output_type": "stream",
          "text": [
            "[================== Iteration: 0 =====================]\n",
            "Training loss :  9.210\n",
            "Training Accuracy:  0.091\n",
            "[================== Iteration: 50 =====================]\n",
            "Training loss :  1.649\n",
            "Training Accuracy:  0.412\n",
            "[================== Iteration: 100 =====================]\n",
            "Training loss :  1.534\n",
            "Training Accuracy:  0.429\n",
            "[================== Iteration: 150 =====================]\n",
            "Training loss :  1.200\n",
            "Training Accuracy:  0.527\n",
            "[================== Iteration: 200 =====================]\n",
            "Training loss :  1.436\n",
            "Training Accuracy:  0.464\n",
            "[================== Iteration: 250 =====================]\n",
            "Training loss :  1.610\n",
            "Training Accuracy:  0.462\n",
            "[================== Iteration: 300 =====================]\n",
            "Training loss :  1.134\n",
            "Training Accuracy:  0.630\n",
            "[================== Iteration: 350 =====================]\n",
            "Training loss :  1.265\n",
            "Training Accuracy:  0.577\n",
            "[================== Iteration: 400 =====================]\n",
            "Training loss :  1.247\n",
            "Training Accuracy:  0.628\n",
            "[================== Iteration: 450 =====================]\n",
            "Training loss :  0.763\n",
            "Training Accuracy:  0.730\n",
            "[================== Iteration: 500 =====================]\n",
            "Training loss :  0.682\n",
            "Training Accuracy:  0.746\n",
            "[================== Iteration: 550 =====================]\n",
            "Training loss :  0.584\n",
            "Training Accuracy:  0.781\n",
            "[================== Iteration: 600 =====================]\n",
            "Training loss :  0.603\n",
            "Training Accuracy:  0.777\n",
            "[================== Iteration: 650 =====================]\n",
            "Training loss :  0.626\n",
            "Training Accuracy:  0.775\n",
            "[================== Iteration: 700 =====================]\n",
            "Training loss :  0.515\n",
            "Training Accuracy:  0.808\n",
            "[================== Iteration: 750 =====================]\n",
            "Training loss :  0.505\n",
            "Training Accuracy:  0.811\n",
            "[================== Iteration: 800 =====================]\n",
            "Training loss :  0.486\n",
            "Training Accuracy:  0.824\n",
            "[================== Iteration: 850 =====================]\n",
            "Training loss :  0.466\n",
            "Training Accuracy:  0.833\n",
            "[================== Iteration: 900 =====================]\n",
            "Training loss :  0.462\n",
            "Training Accuracy:  0.832\n",
            "[================== Iteration: 950 =====================]\n",
            "Training loss :  0.456\n",
            "Training Accuracy:  0.835\n",
            "[================== Iteration: 1000 =====================]\n",
            "Training loss :  0.454\n",
            "Training Accuracy:  0.834\n",
            "[================== Iteration: 1050 =====================]\n",
            "Training loss :  0.444\n",
            "Training Accuracy:  0.841\n",
            "[================== Iteration: 1100 =====================]\n",
            "Training loss :  0.452\n",
            "Training Accuracy:  0.838\n",
            "[================== Iteration: 1150 =====================]\n",
            "Training loss :  0.425\n",
            "Training Accuracy:  0.846\n",
            "[================== Iteration: 1200 =====================]\n",
            "Training loss :  0.440\n",
            "Training Accuracy:  0.837\n",
            "[================== Iteration: 1250 =====================]\n",
            "Training loss :  0.413\n",
            "Training Accuracy:  0.849\n",
            "[================== Iteration: 1300 =====================]\n",
            "Training loss :  0.419\n",
            "Training Accuracy:  0.849\n",
            "[================== Iteration: 1350 =====================]\n",
            "Training loss :  0.405\n",
            "Training Accuracy:  0.853\n",
            "[================== Iteration: 1400 =====================]\n",
            "Training loss :  0.404\n",
            "Training Accuracy:  0.854\n",
            "[================== Iteration: 1450 =====================]\n",
            "Training loss :  0.422\n",
            "Training Accuracy:  0.850\n",
            "[================== Iteration: 1500 =====================]\n",
            "Training loss :  0.405\n",
            "Training Accuracy:  0.853\n",
            "[================== Iteration: 1550 =====================]\n",
            "Training loss :  0.399\n",
            "Training Accuracy:  0.856\n",
            "[================== Iteration: 1600 =====================]\n",
            "Training loss :  0.388\n",
            "Training Accuracy:  0.859\n",
            "[================== Iteration: 1650 =====================]\n",
            "Training loss :  0.396\n",
            "Training Accuracy:  0.858\n",
            "[================== Iteration: 1700 =====================]\n",
            "Training loss :  0.385\n",
            "Training Accuracy:  0.860\n",
            "[================== Iteration: 1750 =====================]\n",
            "Training loss :  0.395\n",
            "Training Accuracy:  0.859\n",
            "[================== Iteration: 1800 =====================]\n",
            "Training loss :  0.384\n",
            "Training Accuracy:  0.860\n",
            "[================== Iteration: 1850 =====================]\n",
            "Training loss :  0.406\n",
            "Training Accuracy:  0.855\n",
            "[================== Iteration: 1900 =====================]\n",
            "Training loss :  0.387\n",
            "Training Accuracy:  0.859\n",
            "[================== Iteration: 1950 =====================]\n",
            "Training loss :  0.385\n",
            "Training Accuracy:  0.860\n",
            "[================== Iteration: 2000 =====================]\n",
            "Training loss :  0.380\n",
            "Training Accuracy:  0.862\n",
            "[================== Iteration: 2050 =====================]\n",
            "Training loss :  0.368\n",
            "Training Accuracy:  0.865\n",
            "[================== Iteration: 2100 =====================]\n",
            "Training loss :  0.366\n",
            "Training Accuracy:  0.865\n",
            "[================== Iteration: 2150 =====================]\n",
            "Training loss :  0.374\n",
            "Training Accuracy:  0.862\n",
            "[================== Iteration: 2200 =====================]\n",
            "Training loss :  0.357\n",
            "Training Accuracy:  0.869\n",
            "[================== Iteration: 2250 =====================]\n",
            "Training loss :  0.371\n",
            "Training Accuracy:  0.869\n",
            "[================== Iteration: 2300 =====================]\n",
            "Training loss :  0.377\n",
            "Training Accuracy:  0.859\n",
            "[================== Iteration: 2350 =====================]\n",
            "Training loss :  0.356\n",
            "Training Accuracy:  0.870\n",
            "[================== Iteration: 2400 =====================]\n",
            "Training loss :  0.358\n",
            "Training Accuracy:  0.873\n",
            "[================== Iteration: 2450 =====================]\n",
            "Training loss :  0.350\n",
            "Training Accuracy:  0.871\n",
            "[================== Iteration: 2500 =====================]\n",
            "Training loss :  0.360\n",
            "Training Accuracy:  0.869\n",
            "[================== Iteration: 2550 =====================]\n",
            "Training loss :  0.350\n",
            "Training Accuracy:  0.871\n",
            "[================== Iteration: 2600 =====================]\n",
            "Training loss :  0.343\n",
            "Training Accuracy:  0.874\n",
            "[================== Iteration: 2650 =====================]\n",
            "Training loss :  0.341\n",
            "Training Accuracy:  0.875\n",
            "[================== Iteration: 2700 =====================]\n",
            "Training loss :  0.350\n",
            "Training Accuracy:  0.875\n",
            "[================== Iteration: 2750 =====================]\n",
            "Training loss :  0.344\n",
            "Training Accuracy:  0.878\n",
            "[================== Iteration: 2800 =====================]\n",
            "Training loss :  0.344\n",
            "Training Accuracy:  0.876\n",
            "[================== Iteration: 2850 =====================]\n",
            "Training loss :  0.340\n",
            "Training Accuracy:  0.878\n",
            "[================== Iteration: 2900 =====================]\n",
            "Training loss :  0.338\n",
            "Training Accuracy:  0.877\n",
            "[================== Iteration: 2950 =====================]\n",
            "Training loss :  0.334\n",
            "Training Accuracy:  0.877\n"
          ]
        }
      ],
      "source": [
        "W1, b1, W2, b2, losses = model(x_train, y_train, 0.9, 3000)"
      ]
    },
    {
      "cell_type": "markdown",
      "metadata": {
        "id": "V8KzaQp7qoAy"
      },
      "source": [
        "# Train-Set F1 Score"
      ]
    },
    {
      "cell_type": "code",
      "execution_count": null,
      "metadata": {
        "id": "eJrfagqPqoAy",
        "outputId": "5e94414e-d58d-4625-a478-1f6fa55f7538"
      },
      "outputs": [
        {
          "name": "stdout",
          "output_type": "stream",
          "text": [
            "[[4964   13  122   98    6    3  756    0   38    0]\n",
            " [  17 5830   24   93    8    4   19    0    4    1]\n",
            " [  39    4 5043   30  330    1  543    0   10    0]\n",
            " [ 236   55   91 5083  271    2  244    0   18    0]\n",
            " [  11   10  887  111 4124    3  841    0   13    0]\n",
            " [   0    0    0    1    0 5864    1  100   13   21]\n",
            " [ 731    9  580   62  216    2 4351    0   48    1]\n",
            " [   0    1    0    0    0   91    0 5758    9  141]\n",
            " [  14    4   42   14   16   12  103   14 5778    3]\n",
            " [   0    0    1    0    0   56    0  209    3 5731]]\n"
          ]
        }
      ],
      "source": [
        "from sklearn.metrics import confusion_matrix , classification_report\n",
        "\n",
        "a, b, c, train_pred = forward(x_train, W1, b1, W2, b2)\n",
        "pred_final = flatten(train_pred)\n",
        "train_final = flatten(y_train)\n",
        "print(confusion_matrix(train_final.T, pred_final.T))"
      ]
    },
    {
      "cell_type": "code",
      "execution_count": null,
      "metadata": {
        "id": "fv6UJFOZqoAz",
        "outputId": "b6ef27e0-58fc-4e8c-e6ff-218c32874b0d"
      },
      "outputs": [
        {
          "name": "stdout",
          "output_type": "stream",
          "text": [
            "              precision    recall  f1-score   support\n",
            "\n",
            "           0       0.83      0.83      0.83      6000\n",
            "           1       0.98      0.97      0.98      6000\n",
            "           2       0.74      0.84      0.79      6000\n",
            "           3       0.93      0.85      0.88      6000\n",
            "           4       0.83      0.69      0.75      6000\n",
            "           5       0.97      0.98      0.97      6000\n",
            "           6       0.63      0.73      0.68      6000\n",
            "           7       0.95      0.96      0.95      6000\n",
            "           8       0.97      0.96      0.97      6000\n",
            "           9       0.97      0.96      0.96      6000\n",
            "\n",
            "    accuracy                           0.88     60000\n",
            "   macro avg       0.88      0.88      0.88     60000\n",
            "weighted avg       0.88      0.88      0.88     60000\n",
            "\n"
          ]
        }
      ],
      "source": [
        "print(classification_report(train_final.T, pred_final.T))"
      ]
    },
    {
      "cell_type": "markdown",
      "metadata": {
        "id": "eI10be1zqoAz"
      },
      "source": [
        "# Plotting The LOSS"
      ]
    },
    {
      "cell_type": "code",
      "execution_count": null,
      "metadata": {
        "id": "gHb1ovxlqoAz",
        "outputId": "2609c758-7a9e-412a-9831-82c86297adbb"
      },
      "outputs": [
        {
          "data": {
            "text/plain": [
              "<function matplotlib.pyplot.show(close=None, block=None)>"
            ]
          },
          "execution_count": 28,
          "metadata": {},
          "output_type": "execute_result"
        },
        {
          "data": {
            "image/png": "[encoded data removed]",
            "text/plain": [
              "<Figure size 432x288 with 1 Axes>"
            ]
          },
          "metadata": {
            "needs_background": "light"
          },
          "output_type": "display_data"
        }
      ],
      "source": [
        "plt.plot(losses)\n",
        "plt.xlabel(\"No. of Iteration\")\n",
        "plt.ylabel(\"LOSS\")\n",
        "plt.show"
      ]
    },
    {
      "cell_type": "markdown",
      "metadata": {
        "id": "hEhV187aqoA0"
      },
      "source": [
        "# Confusion_Matrix Plot of Train-Set"
      ]
    },
    {
      "cell_type": "code",
      "execution_count": null,
      "metadata": {
        "id": "6uBRLs89qoA0",
        "outputId": "b64f4635-8b8b-4ff0-bfc7-0ca115e09773"
      },
      "outputs": [
        {
          "data": {
            "text/plain": [
              "<AxesSubplot:>"
            ]
          },
          "execution_count": 32,
          "metadata": {},
          "output_type": "execute_result"
        },
        {
          "data": {
            "image/png": "[encoded data removed]",
            "text/plain": [
              "<Figure size 432x288 with 2 Axes>"
            ]
          },
          "metadata": {
            "needs_background": "light"
          },
          "output_type": "display_data"
        }
      ],
      "source": [
        "sns.heatmap(confusion_matrix(train_final.T, pred_final.T))"
      ]
    },
    {
      "cell_type": "markdown",
      "metadata": {
        "id": "CrHTb1TKqoA1"
      },
      "source": [
        "# Accuracy and Loss of Test-Set "
      ]
    },
    {
      "cell_type": "code",
      "execution_count": null,
      "metadata": {
        "id": "ZKb2ma37qoA1",
        "outputId": "c8725a35-6ee6-4503-b064-f81a956184b5"
      },
      "outputs": [
        {
          "name": "stdout",
          "output_type": "stream",
          "text": [
            "Test Accuracy:  0.862\n",
            "Test loss:  0.393\n"
          ]
        }
      ],
      "source": [
        "a, b, c, test_pred = forward(x_test, W1, b1, W2, b2)\n",
        "test_final = flatten(test_pred)\n",
        "test_acc = accuracy(test_final, y_test)\n",
        "test_loss = loss(y_test.T, test_pred.T)\n",
        "print(f\"Test Accuracy: {test_acc : .3f}\")\n",
        "print(f\"Test loss: {test_loss : .3f}\")"
      ]
    },
    {
      "cell_type": "markdown",
      "metadata": {
        "id": "esBfMmpOqoA1"
      },
      "source": [
        "# Test-Set F1 Score"
      ]
    },
    {
      "cell_type": "code",
      "execution_count": null,
      "metadata": {
        "id": "rPy-QcI5qoA2",
        "outputId": "4d2e1cd2-3880-492a-acc6-f646b195d437"
      },
      "outputs": [
        {
          "name": "stdout",
          "output_type": "stream",
          "text": [
            "[[809   4  22  18   0   1 137   1   8   0]\n",
            " [  2 979   4  11   0   1   3   0   0   0]\n",
            " [  9   1 822   5  47   1 110   0   5   0]\n",
            " [ 36  21  20 845  37   1  38   0   2   0]\n",
            " [  1   2 126  19 706   0 143   0   2   1]\n",
            " [  0   1   1   2   0 935   2  43   5  11]\n",
            " [147   2  94  11  39   1 694   0  12   0]\n",
            " [  0   0   0   0   0  28   0 931   0  41]\n",
            " [  3   0   8   3   2   3  24   5 951   1]\n",
            " [  0   0   0   1   0  16   0  38   1 944]]\n"
          ]
        }
      ],
      "source": [
        "print(confusion_matrix(y_test.T, test_final.T))"
      ]
    },
    {
      "cell_type": "code",
      "execution_count": null,
      "metadata": {
        "id": "qOG7plGLqoA2",
        "outputId": "ae891f6e-2b7a-4b19-e80d-ce7d2b36634d"
      },
      "outputs": [
        {
          "name": "stdout",
          "output_type": "stream",
          "text": [
            "              precision    recall  f1-score   support\n",
            "\n",
            "           0       0.80      0.81      0.81      1000\n",
            "           1       0.97      0.98      0.97      1000\n",
            "           2       0.75      0.82      0.78      1000\n",
            "           3       0.92      0.84      0.88      1000\n",
            "           4       0.85      0.71      0.77      1000\n",
            "           5       0.95      0.94      0.94      1000\n",
            "           6       0.60      0.69      0.65      1000\n",
            "           7       0.91      0.93      0.92      1000\n",
            "           8       0.96      0.95      0.96      1000\n",
            "           9       0.95      0.94      0.94      1000\n",
            "\n",
            "    accuracy                           0.86     10000\n",
            "   macro avg       0.87      0.86      0.86     10000\n",
            "weighted avg       0.87      0.86      0.86     10000\n",
            "\n"
          ]
        }
      ],
      "source": [
        "print(classification_report(y_test.T, test_final.T))"
      ]
    },
    {
      "cell_type": "markdown",
      "metadata": {
        "id": "W4zURjFqqoA2"
      },
      "source": [
        "# Confusion_Matrix Plot of Test-Set "
      ]
    },
    {
      "cell_type": "code",
      "execution_count": null,
      "metadata": {
        "id": "MtXjsolNqoA3",
        "outputId": "47dfc0fd-8532-4a58-9e87-fc27468a60d0"
      },
      "outputs": [
        {
          "data": {
            "text/plain": [
              "<AxesSubplot:>"
            ]
          },
          "execution_count": 36,
          "metadata": {},
          "output_type": "execute_result"
        },
        {
          "data": {
            "image/png": "[encoded data removed]",
            "text/plain": [
              "<Figure size 432x288 with 2 Axes>"
            ]
          },
          "metadata": {
            "needs_background": "light"
          },
          "output_type": "display_data"
        }
      ],
      "source": [
        "sns.heatmap(confusion_matrix(y_test, test_final.T))"
      ]
    }
  ],
  "metadata": {
    "interpreter": {
      "hash": "af94bd0208e2bb1a95590dd2fe0bda96ee334aa627acea11b3ed4f706f241278"
    },
    "kernelspec": {
      "display_name": "Python 3",
      "language": "python",
      "name": "python3"
    },
    "language_info": {
      "codemirror_mode": {
        "name": "ipython",
        "version": 3
      },
      "file_extension": ".py",
      "mimetype": "text/x-python",
      "name": "python",
      "nbconvert_exporter": "python",
      "pygments_lexer": "ipython3",
      "version": "3.8.5"
    },
    "colab": {
      "name": "MNISTFashionSet.ipynb",
      "provenance": [],
      "include_colab_link": true
    }
  },
  "nbformat": 4,
  "nbformat_minor": 0
}